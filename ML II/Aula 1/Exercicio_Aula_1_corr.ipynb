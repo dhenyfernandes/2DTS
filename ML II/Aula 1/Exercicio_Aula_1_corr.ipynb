{
 "cells": [
  {
   "cell_type": "code",
   "execution_count": null,
   "id": "involved-wrist",
   "metadata": {},
   "outputs": [],
   "source": [
    "from sklearn import datasets\n",
    "from sklearn.model_selection import train_test_split\n",
    "from sklearn import svm\n",
    "from sklearn import metrics"
   ]
  },
  {
   "cell_type": "code",
   "execution_count": null,
   "id": "aquatic-sheffield",
   "metadata": {},
   "outputs": [],
   "source": [
    "#fazendo o download dos dados direto dos datasets presente na scikit-learn\n",
    "data = datasets.load_breast_cancer()\n",
    "data.feature_names"
   ]
  },
  {
   "cell_type": "code",
   "execution_count": null,
   "id": "correct-scroll",
   "metadata": {},
   "outputs": [],
   "source": [
    "#variável meta (target) -> aquilos que estamos tentando prever\n",
    "#no caso: cancer benigno ou maligno\n",
    "data.target_names"
   ]
  },
  {
   "cell_type": "code",
   "execution_count": null,
   "id": "coated-telephone",
   "metadata": {},
   "outputs": [],
   "source": [
    "#linhas x colunas\n",
    "data.data.shape"
   ]
  },
  {
   "cell_type": "code",
   "execution_count": null,
   "id": "vocal-adjustment",
   "metadata": {},
   "outputs": [],
   "source": [
    "#visualizando as 5 primeiras amostras\n",
    "data.data[0:5]"
   ]
  },
  {
   "cell_type": "markdown",
   "id": "taken-tract",
   "metadata": {},
   "source": [
    "## TODO 1\n",
    "> Separe o dataset em conjunto de treino e teste, sendo 70% para treino e 30% para teste"
   ]
  },
  {
   "cell_type": "code",
   "execution_count": null,
   "id": "stuffed-capital",
   "metadata": {
    "tags": []
   },
   "outputs": [],
   "source": [
    "X_train, X_test, y_train, y_test = train_test_split(data.data, data.target, test_size=0.3, random_state=0) "
   ]
  },
  {
   "cell_type": "markdown",
   "id": "stuck-draft",
   "metadata": {},
   "source": [
    "## TODO 2\n",
    "> Treine um classificador SVM usando kernel linear e outro usando kernel RBF"
   ]
  },
  {
   "cell_type": "code",
   "execution_count": null,
   "id": "given-charm",
   "metadata": {
    "tags": []
   },
   "outputs": [],
   "source": [
    "clf_lin = svm.SVC(kernel='linear')\n",
    "clf_lin.fit(X_train, y_train)"
   ]
  },
  {
   "cell_type": "code",
   "execution_count": null,
   "id": "australian-assurance",
   "metadata": {
    "tags": []
   },
   "outputs": [],
   "source": [
    "clf_rbf = svm.SVC(kernel='rbf')\n",
    "clf_rbf.fit(X_train, y_train)"
   ]
  },
  {
   "cell_type": "markdown",
   "id": "norman-density",
   "metadata": {},
   "source": [
    "## TODO 3\n",
    "> Faça a predição para o conjunto de teste usando os dois kernels"
   ]
  },
  {
   "cell_type": "code",
   "execution_count": null,
   "id": "spectacular-neighborhood",
   "metadata": {
    "tags": []
   },
   "outputs": [],
   "source": [
    "y_pred_lin = clf_lin.predict(X_test)\n",
    "y_pred_rbf = clf_rbf.predict(X_test)"
   ]
  },
  {
   "cell_type": "markdown",
   "id": "bright-apparel",
   "metadata": {},
   "source": [
    "## TODO 4\n",
    "> Obtenha a Acurácia, Precision e Recall para cada kernel"
   ]
  },
  {
   "cell_type": "code",
   "execution_count": null,
   "id": "working-union",
   "metadata": {
    "tags": []
   },
   "outputs": [],
   "source": [
    "print(\"Accuracy Linear Kernel:\",metrics.accuracy_score(y_test, y_pred_lin))\n",
    "print(\"Precision Linear Kernel:\",metrics.precision_score(y_test, y_pred_lin))\n",
    "print(\"Recall Linear Kernel:\",metrics.recall_score(y_test, y_pred_lin))"
   ]
  },
  {
   "cell_type": "code",
   "execution_count": null,
   "id": "frequent-delaware",
   "metadata": {
    "tags": []
   },
   "outputs": [],
   "source": [
    "print(\"Accuracy RBF Kernel:\",metrics.accuracy_score(y_test, y_pred_rbf))\n",
    "print(\"Precision RBF Kernel:\",metrics.precision_score(y_test, y_pred_rbf))\n",
    "print(\"Recall RBF Kernel:\",metrics.recall_score(y_test, y_pred_rbf))"
   ]
  },
  {
   "cell_type": "markdown",
   "id": "compound-gothic",
   "metadata": {},
   "source": [
    "## TODO 5\n",
    "> Você consegue explicar o motivos dos indicadores serem diferentes?"
   ]
  },
  {
   "cell_type": "code",
   "execution_count": null,
   "id": "liked-settlement",
   "metadata": {},
   "outputs": [],
   "source": [
    "#resposta"
   ]
  }
 ],
 "metadata": {
  "kernelspec": {
   "display_name": "Python 3 (ipykernel)",
   "language": "python",
   "name": "python3"
  },
  "language_info": {
   "codemirror_mode": {
    "name": "ipython",
    "version": 3
   },
   "file_extension": ".py",
   "mimetype": "text/x-python",
   "name": "python",
   "nbconvert_exporter": "python",
   "pygments_lexer": "ipython3",
   "version": "3.9.12"
  }
 },
 "nbformat": 4,
 "nbformat_minor": 5
}
