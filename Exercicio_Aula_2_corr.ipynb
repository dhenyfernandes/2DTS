{
 "cells": [
  {
   "cell_type": "markdown",
   "id": "crucial-tuesday",
   "metadata": {},
   "source": [
    "# Multiple Linear Regression"
   ]
  },
  {
   "cell_type": "markdown",
   "id": "violent-peripheral",
   "metadata": {},
   "source": [
    "# TO-Do 1\n",
    "\n",
    "Execute uma regressão linear múltipla no dataset Bike_Sharing.csv que vocês manipularam na disciplina Statistics Fundamentals, da professora Regina"
   ]
  },
  {
   "cell_type": "code",
   "execution_count": 1,
   "id": "animal-jonathan",
   "metadata": {},
   "outputs": [],
   "source": [
    "from sklearn import linear_model\n",
    "from sklearn.metrics import mean_squared_error\n",
    "from sklearn.model_selection import train_test_split\n",
    "import pandas as pd\n",
    "import numpy as np\n",
    "from sklearn import tree"
   ]
  },
  {
   "cell_type": "code",
   "execution_count": 2,
   "id": "raising-canyon",
   "metadata": {
    "tags": []
   },
   "outputs": [
    {
     "data": {
      "text/html": [
       "<div>\n",
       "<style scoped>\n",
       "    .dataframe tbody tr th:only-of-type {\n",
       "        vertical-align: middle;\n",
       "    }\n",
       "\n",
       "    .dataframe tbody tr th {\n",
       "        vertical-align: top;\n",
       "    }\n",
       "\n",
       "    .dataframe thead th {\n",
       "        text-align: right;\n",
       "    }\n",
       "</style>\n",
       "<table border=\"1\" class=\"dataframe\">\n",
       "  <thead>\n",
       "    <tr style=\"text-align: right;\">\n",
       "      <th></th>\n",
       "      <th>instant</th>\n",
       "      <th>dteday</th>\n",
       "      <th>season</th>\n",
       "      <th>yr</th>\n",
       "      <th>mnth</th>\n",
       "      <th>holiday</th>\n",
       "      <th>weekday</th>\n",
       "      <th>workingday</th>\n",
       "      <th>weathersit</th>\n",
       "      <th>temp</th>\n",
       "      <th>atemp</th>\n",
       "      <th>hum</th>\n",
       "      <th>windspeed</th>\n",
       "      <th>casual</th>\n",
       "      <th>registered</th>\n",
       "      <th>cnt</th>\n",
       "    </tr>\n",
       "  </thead>\n",
       "  <tbody>\n",
       "    <tr>\n",
       "      <th>0</th>\n",
       "      <td>1</td>\n",
       "      <td>2011-01-01</td>\n",
       "      <td>1</td>\n",
       "      <td>0</td>\n",
       "      <td>1</td>\n",
       "      <td>0</td>\n",
       "      <td>6</td>\n",
       "      <td>0</td>\n",
       "      <td>2</td>\n",
       "      <td>0.344167</td>\n",
       "      <td>0.363625</td>\n",
       "      <td>0.805833</td>\n",
       "      <td>0.160446</td>\n",
       "      <td>331</td>\n",
       "      <td>654</td>\n",
       "      <td>985</td>\n",
       "    </tr>\n",
       "    <tr>\n",
       "      <th>1</th>\n",
       "      <td>2</td>\n",
       "      <td>2011-01-02</td>\n",
       "      <td>1</td>\n",
       "      <td>0</td>\n",
       "      <td>1</td>\n",
       "      <td>0</td>\n",
       "      <td>0</td>\n",
       "      <td>0</td>\n",
       "      <td>2</td>\n",
       "      <td>0.363478</td>\n",
       "      <td>0.353739</td>\n",
       "      <td>0.696087</td>\n",
       "      <td>0.248539</td>\n",
       "      <td>131</td>\n",
       "      <td>670</td>\n",
       "      <td>801</td>\n",
       "    </tr>\n",
       "    <tr>\n",
       "      <th>2</th>\n",
       "      <td>3</td>\n",
       "      <td>2011-01-03</td>\n",
       "      <td>1</td>\n",
       "      <td>0</td>\n",
       "      <td>1</td>\n",
       "      <td>0</td>\n",
       "      <td>1</td>\n",
       "      <td>1</td>\n",
       "      <td>1</td>\n",
       "      <td>0.196364</td>\n",
       "      <td>0.189405</td>\n",
       "      <td>0.437273</td>\n",
       "      <td>0.248309</td>\n",
       "      <td>120</td>\n",
       "      <td>1229</td>\n",
       "      <td>1349</td>\n",
       "    </tr>\n",
       "    <tr>\n",
       "      <th>3</th>\n",
       "      <td>4</td>\n",
       "      <td>2011-01-04</td>\n",
       "      <td>1</td>\n",
       "      <td>0</td>\n",
       "      <td>1</td>\n",
       "      <td>0</td>\n",
       "      <td>2</td>\n",
       "      <td>1</td>\n",
       "      <td>1</td>\n",
       "      <td>0.200000</td>\n",
       "      <td>0.212122</td>\n",
       "      <td>0.590435</td>\n",
       "      <td>0.160296</td>\n",
       "      <td>108</td>\n",
       "      <td>1454</td>\n",
       "      <td>1562</td>\n",
       "    </tr>\n",
       "    <tr>\n",
       "      <th>4</th>\n",
       "      <td>5</td>\n",
       "      <td>2011-01-05</td>\n",
       "      <td>1</td>\n",
       "      <td>0</td>\n",
       "      <td>1</td>\n",
       "      <td>0</td>\n",
       "      <td>3</td>\n",
       "      <td>1</td>\n",
       "      <td>1</td>\n",
       "      <td>0.226957</td>\n",
       "      <td>0.229270</td>\n",
       "      <td>0.436957</td>\n",
       "      <td>0.186900</td>\n",
       "      <td>82</td>\n",
       "      <td>1518</td>\n",
       "      <td>1600</td>\n",
       "    </tr>\n",
       "  </tbody>\n",
       "</table>\n",
       "</div>"
      ],
      "text/plain": [
       "   instant      dteday  season  yr  mnth  holiday  weekday  workingday  \\\n",
       "0        1  2011-01-01       1   0     1        0        6           0   \n",
       "1        2  2011-01-02       1   0     1        0        0           0   \n",
       "2        3  2011-01-03       1   0     1        0        1           1   \n",
       "3        4  2011-01-04       1   0     1        0        2           1   \n",
       "4        5  2011-01-05       1   0     1        0        3           1   \n",
       "\n",
       "   weathersit      temp     atemp       hum  windspeed  casual  registered  \\\n",
       "0           2  0.344167  0.363625  0.805833   0.160446     331         654   \n",
       "1           2  0.363478  0.353739  0.696087   0.248539     131         670   \n",
       "2           1  0.196364  0.189405  0.437273   0.248309     120        1229   \n",
       "3           1  0.200000  0.212122  0.590435   0.160296     108        1454   \n",
       "4           1  0.226957  0.229270  0.436957   0.186900      82        1518   \n",
       "\n",
       "    cnt  \n",
       "0   985  \n",
       "1   801  \n",
       "2  1349  \n",
       "3  1562  \n",
       "4  1600  "
      ]
     },
     "execution_count": 2,
     "metadata": {},
     "output_type": "execute_result"
    }
   ],
   "source": [
    "df = pd.read_csv('bases/Bike_Sharing.csv')\n",
    "df.head()"
   ]
  },
  {
   "cell_type": "code",
   "execution_count": 11,
   "id": "strange-house",
   "metadata": {
    "tags": []
   },
   "outputs": [],
   "source": [
    "X = df.iloc[:,2:-3].values\n",
    "y = df.iloc[:,-1]\n",
    "X_train, X_test, y_train, y_test = train_test_split(X, y, test_size=0.3, random_state=42)"
   ]
  },
  {
   "cell_type": "code",
   "execution_count": null,
   "id": "german-symphony",
   "metadata": {
    "tags": []
   },
   "outputs": [],
   "source": [
    "y_train"
   ]
  },
  {
   "cell_type": "code",
   "execution_count": 12,
   "id": "finite-momentum",
   "metadata": {
    "tags": []
   },
   "outputs": [
    {
     "data": {
      "text/plain": [
       "LinearRegression()"
      ]
     },
     "execution_count": 12,
     "metadata": {},
     "output_type": "execute_result"
    }
   ],
   "source": [
    "mlr_skl = linear_model.LinearRegression()\n",
    "mlr_skl.fit(X_train, y_train.ravel())"
   ]
  },
  {
   "cell_type": "code",
   "execution_count": 13,
   "id": "differential-lawyer",
   "metadata": {
    "tags": []
   },
   "outputs": [
    {
     "name": "stdout",
     "output_type": "stream",
     "text": [
      "751126.2310636691\n"
     ]
    },
    {
     "data": {
      "text/plain": [
       "array([  532.81457002,  1981.84189358,   -45.73568804,  -386.37928782,\n",
       "          68.41529588,   161.51159788,  -598.60038909, -2463.45125556,\n",
       "        8751.38948003,  -965.27937163, -1956.16024225])"
      ]
     },
     "execution_count": 13,
     "metadata": {},
     "output_type": "execute_result"
    }
   ],
   "source": [
    "y_pred = mlr_skl.predict(X_test) # predizando\n",
    "print(mean_squared_error(y_test,y_pred)) # MSE\n",
    "mlr_skl.coef_  #valores finais de theta"
   ]
  },
  {
   "cell_type": "markdown",
   "id": "looking-hands",
   "metadata": {},
   "source": [
    "# Regression Trees"
   ]
  },
  {
   "cell_type": "code",
   "execution_count": 8,
   "id": "printable-suffering",
   "metadata": {},
   "outputs": [],
   "source": [
    "import numpy as np\n",
    "import pandas as pd\n",
    "import matplotlib.pyplot as plt\n",
    "from sklearn.tree import DecisionTreeRegressor\n",
    "from sklearn import tree"
   ]
  },
  {
   "cell_type": "code",
   "execution_count": 4,
   "id": "international-nicaragua",
   "metadata": {},
   "outputs": [
    {
     "data": {
      "text/html": [
       "<div>\n",
       "<style scoped>\n",
       "    .dataframe tbody tr th:only-of-type {\n",
       "        vertical-align: middle;\n",
       "    }\n",
       "\n",
       "    .dataframe tbody tr th {\n",
       "        vertical-align: top;\n",
       "    }\n",
       "\n",
       "    .dataframe thead th {\n",
       "        text-align: right;\n",
       "    }\n",
       "</style>\n",
       "<table border=\"1\" class=\"dataframe\">\n",
       "  <thead>\n",
       "    <tr style=\"text-align: right;\">\n",
       "      <th></th>\n",
       "      <th>R&amp;D Spend</th>\n",
       "      <th>Administration</th>\n",
       "      <th>Marketing Spend</th>\n",
       "      <th>State</th>\n",
       "      <th>Profit</th>\n",
       "    </tr>\n",
       "  </thead>\n",
       "  <tbody>\n",
       "    <tr>\n",
       "      <th>0</th>\n",
       "      <td>165349.20</td>\n",
       "      <td>136897.80</td>\n",
       "      <td>471784.10</td>\n",
       "      <td>New York</td>\n",
       "      <td>192261.83</td>\n",
       "    </tr>\n",
       "    <tr>\n",
       "      <th>1</th>\n",
       "      <td>162597.70</td>\n",
       "      <td>151377.59</td>\n",
       "      <td>443898.53</td>\n",
       "      <td>California</td>\n",
       "      <td>191792.06</td>\n",
       "    </tr>\n",
       "    <tr>\n",
       "      <th>2</th>\n",
       "      <td>153441.51</td>\n",
       "      <td>101145.55</td>\n",
       "      <td>407934.54</td>\n",
       "      <td>Florida</td>\n",
       "      <td>191050.39</td>\n",
       "    </tr>\n",
       "    <tr>\n",
       "      <th>3</th>\n",
       "      <td>144372.41</td>\n",
       "      <td>118671.85</td>\n",
       "      <td>383199.62</td>\n",
       "      <td>New York</td>\n",
       "      <td>182901.99</td>\n",
       "    </tr>\n",
       "    <tr>\n",
       "      <th>4</th>\n",
       "      <td>142107.34</td>\n",
       "      <td>91391.77</td>\n",
       "      <td>366168.42</td>\n",
       "      <td>Florida</td>\n",
       "      <td>166187.94</td>\n",
       "    </tr>\n",
       "  </tbody>\n",
       "</table>\n",
       "</div>"
      ],
      "text/plain": [
       "   R&D Spend  Administration  Marketing Spend       State     Profit\n",
       "0  165349.20       136897.80        471784.10    New York  192261.83\n",
       "1  162597.70       151377.59        443898.53  California  191792.06\n",
       "2  153441.51       101145.55        407934.54     Florida  191050.39\n",
       "3  144372.41       118671.85        383199.62    New York  182901.99\n",
       "4  142107.34        91391.77        366168.42     Florida  166187.94"
      ]
     },
     "execution_count": 4,
     "metadata": {},
     "output_type": "execute_result"
    }
   ],
   "source": [
    "dataset = pd.read_csv('bases/50_Startups.csv')\n",
    "dataset.head()"
   ]
  },
  {
   "cell_type": "markdown",
   "id": "thrown-julian",
   "metadata": {},
   "source": [
    "### TO-DO 1\n",
    "\n",
    "Remova as colunas Administration e State do dataset"
   ]
  },
  {
   "cell_type": "code",
   "execution_count": 5,
   "id": "anonymous-creativity",
   "metadata": {
    "tags": []
   },
   "outputs": [
    {
     "data": {
      "text/html": [
       "<div>\n",
       "<style scoped>\n",
       "    .dataframe tbody tr th:only-of-type {\n",
       "        vertical-align: middle;\n",
       "    }\n",
       "\n",
       "    .dataframe tbody tr th {\n",
       "        vertical-align: top;\n",
       "    }\n",
       "\n",
       "    .dataframe thead th {\n",
       "        text-align: right;\n",
       "    }\n",
       "</style>\n",
       "<table border=\"1\" class=\"dataframe\">\n",
       "  <thead>\n",
       "    <tr style=\"text-align: right;\">\n",
       "      <th></th>\n",
       "      <th>R&amp;D Spend</th>\n",
       "      <th>Marketing Spend</th>\n",
       "      <th>Profit</th>\n",
       "    </tr>\n",
       "  </thead>\n",
       "  <tbody>\n",
       "    <tr>\n",
       "      <th>0</th>\n",
       "      <td>165349.20</td>\n",
       "      <td>471784.10</td>\n",
       "      <td>192261.83</td>\n",
       "    </tr>\n",
       "    <tr>\n",
       "      <th>1</th>\n",
       "      <td>162597.70</td>\n",
       "      <td>443898.53</td>\n",
       "      <td>191792.06</td>\n",
       "    </tr>\n",
       "    <tr>\n",
       "      <th>2</th>\n",
       "      <td>153441.51</td>\n",
       "      <td>407934.54</td>\n",
       "      <td>191050.39</td>\n",
       "    </tr>\n",
       "    <tr>\n",
       "      <th>3</th>\n",
       "      <td>144372.41</td>\n",
       "      <td>383199.62</td>\n",
       "      <td>182901.99</td>\n",
       "    </tr>\n",
       "    <tr>\n",
       "      <th>4</th>\n",
       "      <td>142107.34</td>\n",
       "      <td>366168.42</td>\n",
       "      <td>166187.94</td>\n",
       "    </tr>\n",
       "  </tbody>\n",
       "</table>\n",
       "</div>"
      ],
      "text/plain": [
       "   R&D Spend  Marketing Spend     Profit\n",
       "0  165349.20        471784.10  192261.83\n",
       "1  162597.70        443898.53  191792.06\n",
       "2  153441.51        407934.54  191050.39\n",
       "3  144372.41        383199.62  182901.99\n",
       "4  142107.34        366168.42  166187.94"
      ]
     },
     "execution_count": 5,
     "metadata": {},
     "output_type": "execute_result"
    }
   ],
   "source": [
    "#resposta\n",
    "dataset = dataset.drop(columns = ['Administration', 'State'])\n",
    "dataset.head()"
   ]
  },
  {
   "cell_type": "markdown",
   "id": "painful-length",
   "metadata": {},
   "source": [
    "### TO-DO 2\n",
    "Separe o dataset em vetor de características e variável meta"
   ]
  },
  {
   "cell_type": "code",
   "execution_count": 16,
   "id": "capable-ordinance",
   "metadata": {
    "tags": []
   },
   "outputs": [],
   "source": [
    "#resposta\n",
    "X = dataset.iloc[:, :-1].values\n",
    "y = dataset.iloc[:, -1].values\n",
    "\n",
    "assert type(X) == np.ndarray, \"É esperado que X seja um numpy.ndarray\"\n",
    "assert type(y) == np.ndarray, \"É esperado que y seja um numpy.ndarray\""
   ]
  },
  {
   "cell_type": "markdown",
   "id": "distinct-cleaner",
   "metadata": {},
   "source": [
    "### TO-DO 3\n",
    "Treine um modelo de regressão usando Regression Tree"
   ]
  },
  {
   "cell_type": "code",
   "execution_count": 17,
   "id": "handy-anxiety",
   "metadata": {
    "tags": []
   },
   "outputs": [
    {
     "data": {
      "text/plain": [
       "DecisionTreeRegressor(random_state=0)"
      ]
     },
     "execution_count": 17,
     "metadata": {},
     "output_type": "execute_result"
    }
   ],
   "source": [
    "#resposta\n",
    "regressor = DecisionTreeRegressor(random_state = 0)\n",
    "regressor.fit(X, y) "
   ]
  },
  {
   "cell_type": "code",
   "execution_count": 10,
   "id": "91c8bdf2-7ba6-40cf-a87b-5706b387c041",
   "metadata": {},
   "outputs": [
    {
     "name": "stdout",
     "output_type": "stream",
     "text": [
      "|--- feature_0 <= 77528.56\n",
      "|   |--- feature_0 <= 25766.92\n",
      "|   |   |--- feature_0 <= 771.14\n",
      "|   |   |   |--- feature_1 <= 22586.53\n",
      "|   |   |   |   |--- feature_0 <= 271.02\n",
      "|   |   |   |   |   |--- value: [42559.73]\n",
      "|   |   |   |   |--- feature_0 >  271.02\n",
      "|   |   |   |   |   |--- value: [35673.41]\n",
      "|   |   |   |--- feature_1 >  22586.53\n",
      "|   |   |   |   |--- value: [14681.40]\n",
      "|   |   |--- feature_0 >  771.14\n",
      "|   |   |   |--- feature_1 <= 241189.78\n",
      "|   |   |   |   |--- feature_1 <= 166633.10\n",
      "|   |   |   |   |   |--- feature_1 <= 31934.45\n",
      "|   |   |   |   |   |   |--- feature_0 <= 11588.99\n",
      "|   |   |   |   |   |   |   |--- value: [64926.08]\n",
      "|   |   |   |   |   |   |--- feature_0 >  11588.99\n",
      "|   |   |   |   |   |   |   |--- value: [65200.33]\n",
      "|   |   |   |   |   |--- feature_1 >  31934.45\n",
      "|   |   |   |   |   |   |--- feature_1 <= 91767.64\n",
      "|   |   |   |   |   |   |   |--- value: [69758.98]\n",
      "|   |   |   |   |   |   |--- feature_1 >  91767.64\n",
      "|   |   |   |   |   |   |   |--- value: [71498.49]\n",
      "|   |   |   |   |--- feature_1 >  166633.10\n",
      "|   |   |   |   |   |--- value: [81229.06]\n",
      "|   |   |   |--- feature_1 >  241189.78\n",
      "|   |   |   |   |--- value: [49490.75]\n",
      "|   |--- feature_0 >  25766.92\n",
      "|   |   |--- feature_0 <= 45041.98\n",
      "|   |   |   |--- feature_1 <= 186014.36\n",
      "|   |   |   |   |--- feature_0 <= 33656.42\n",
      "|   |   |   |   |   |--- feature_0 <= 28323.62\n",
      "|   |   |   |   |   |   |--- value: [77798.83]\n",
      "|   |   |   |   |   |--- feature_0 >  28323.62\n",
      "|   |   |   |   |   |   |--- value: [78239.91]\n",
      "|   |   |   |   |--- feature_0 >  33656.42\n",
      "|   |   |   |   |   |--- value: [81005.76]\n",
      "|   |   |   |--- feature_1 >  186014.36\n",
      "|   |   |   |   |--- feature_1 <= 199078.12\n",
      "|   |   |   |   |   |--- value: [89949.14]\n",
      "|   |   |   |   |--- feature_1 >  199078.12\n",
      "|   |   |   |   |   |--- value: [90708.19]\n",
      "|   |   |--- feature_0 >  45041.98\n",
      "|   |   |   |--- feature_0 <= 64036.79\n",
      "|   |   |   |   |--- feature_0 <= 61565.43\n",
      "|   |   |   |   |   |--- feature_1 <= 146867.93\n",
      "|   |   |   |   |   |   |--- value: [97483.56]\n",
      "|   |   |   |   |   |--- feature_1 >  146867.93\n",
      "|   |   |   |   |   |   |--- feature_0 <= 46220.04\n",
      "|   |   |   |   |   |   |   |--- value: [96479.51]\n",
      "|   |   |   |   |   |   |--- feature_0 >  46220.04\n",
      "|   |   |   |   |   |   |   |--- feature_1 <= 212716.24\n",
      "|   |   |   |   |   |   |   |   |--- value: [96712.80]\n",
      "|   |   |   |   |   |   |   |--- feature_1 >  212716.24\n",
      "|   |   |   |   |   |   |   |   |--- value: [96778.92]\n",
      "|   |   |   |   |--- feature_0 >  61565.43\n",
      "|   |   |   |   |   |--- feature_1 <= 68608.25\n",
      "|   |   |   |   |   |   |--- value: [97427.84]\n",
      "|   |   |   |   |   |--- feature_1 >  68608.25\n",
      "|   |   |   |   |   |   |--- value: [99937.59]\n",
      "|   |   |   |--- feature_0 >  64036.79\n",
      "|   |   |   |   |--- feature_0 <= 75791.36\n",
      "|   |   |   |   |   |--- feature_1 <= 126099.13\n",
      "|   |   |   |   |   |   |--- feature_1 <= 112643.29\n",
      "|   |   |   |   |   |   |   |--- value: [101004.64]\n",
      "|   |   |   |   |   |   |--- feature_1 >  112643.29\n",
      "|   |   |   |   |   |   |   |--- value: [103282.38]\n",
      "|   |   |   |   |   |--- feature_1 >  126099.13\n",
      "|   |   |   |   |   |   |--- feature_1 <= 328976.27\n",
      "|   |   |   |   |   |   |   |--- feature_1 <= 220640.94\n",
      "|   |   |   |   |   |   |   |   |--- feature_0 <= 69996.79\n",
      "|   |   |   |   |   |   |   |   |   |--- value: [107404.34]\n",
      "|   |   |   |   |   |   |   |   |--- feature_0 >  69996.79\n",
      "|   |   |   |   |   |   |   |   |   |--- value: [105733.54]\n",
      "|   |   |   |   |   |   |   |--- feature_1 >  220640.94\n",
      "|   |   |   |   |   |   |   |   |--- feature_0 <= 70763.55\n",
      "|   |   |   |   |   |   |   |   |   |--- value: [108733.99]\n",
      "|   |   |   |   |   |   |   |   |--- feature_0 >  70763.55\n",
      "|   |   |   |   |   |   |   |   |   |--- value: [110352.25]\n",
      "|   |   |   |   |   |   |--- feature_1 >  328976.27\n",
      "|   |   |   |   |   |   |   |--- value: [105008.31]\n",
      "|   |   |   |   |--- feature_0 >  75791.36\n",
      "|   |   |   |   |   |--- feature_0 <= 76648.93\n",
      "|   |   |   |   |   |   |--- value: [118474.03]\n",
      "|   |   |   |   |   |--- feature_0 >  76648.93\n",
      "|   |   |   |   |   |   |--- value: [108552.04]\n",
      "|--- feature_0 >  77528.56\n",
      "|   |--- feature_0 <= 138361.40\n",
      "|   |   |--- feature_0 <= 120242.88\n",
      "|   |   |   |--- feature_0 <= 91870.77\n",
      "|   |   |   |   |--- feature_1 <= 297328.42\n",
      "|   |   |   |   |   |--- feature_0 <= 82216.41\n",
      "|   |   |   |   |   |   |--- value: [126992.93]\n",
      "|   |   |   |   |   |--- feature_0 >  82216.41\n",
      "|   |   |   |   |   |   |--- feature_0 <= 89084.43\n",
      "|   |   |   |   |   |   |   |--- value: [122776.86]\n",
      "|   |   |   |   |   |   |--- feature_0 >  89084.43\n",
      "|   |   |   |   |   |   |   |--- value: [124266.90]\n",
      "|   |   |   |   |--- feature_1 >  297328.42\n",
      "|   |   |   |   |   |--- value: [111313.02]\n",
      "|   |   |   |--- feature_0 >  91870.77\n",
      "|   |   |   |   |--- feature_1 <= 251252.19\n",
      "|   |   |   |   |   |--- feature_1 <= 249791.99\n",
      "|   |   |   |   |   |   |--- feature_0 <= 101292.52\n",
      "|   |   |   |   |   |   |   |--- value: [144259.40]\n",
      "|   |   |   |   |   |   |--- feature_0 >  101292.52\n",
      "|   |   |   |   |   |   |   |--- value: [146121.95]\n",
      "|   |   |   |   |   |--- feature_1 >  249791.99\n",
      "|   |   |   |   |   |   |--- value: [141585.52]\n",
      "|   |   |   |   |--- feature_1 >  251252.19\n",
      "|   |   |   |   |   |--- feature_1 <= 272175.27\n",
      "|   |   |   |   |   |   |--- feature_1 <= 259144.58\n",
      "|   |   |   |   |   |   |   |--- feature_0 <= 105967.82\n",
      "|   |   |   |   |   |   |   |   |--- value: [134307.35]\n",
      "|   |   |   |   |   |   |   |--- feature_0 >  105967.82\n",
      "|   |   |   |   |   |   |   |   |--- value: [132602.65]\n",
      "|   |   |   |   |   |   |--- feature_1 >  259144.58\n",
      "|   |   |   |   |   |   |   |--- value: [129917.04]\n",
      "|   |   |   |   |   |--- feature_1 >  272175.27\n",
      "|   |   |   |   |   |   |--- value: [125370.37]\n",
      "|   |   |--- feature_0 >  120242.88\n",
      "|   |   |   |--- feature_0 <= 126816.51\n",
      "|   |   |   |   |--- feature_0 <= 121938.70\n",
      "|   |   |   |   |   |--- value: [152211.77]\n",
      "|   |   |   |   |--- feature_0 >  121938.70\n",
      "|   |   |   |   |   |--- value: [149759.96]\n",
      "|   |   |   |--- feature_0 >  126816.51\n",
      "|   |   |   |   |--- feature_1 <= 343369.03\n",
      "|   |   |   |   |   |--- feature_0 <= 132456.79\n",
      "|   |   |   |   |   |   |--- value: [155752.60]\n",
      "|   |   |   |   |   |--- feature_0 >  132456.79\n",
      "|   |   |   |   |   |   |--- value: [156122.51]\n",
      "|   |   |   |   |--- feature_1 >  343369.03\n",
      "|   |   |   |   |   |--- value: [156991.12]\n",
      "|   |--- feature_0 >  138361.40\n",
      "|   |   |--- feature_1 <= 374684.02\n",
      "|   |   |   |--- value: [166187.94]\n",
      "|   |   |--- feature_1 >  374684.02\n",
      "|   |   |   |--- feature_1 <= 395567.08\n",
      "|   |   |   |   |--- value: [182901.99]\n",
      "|   |   |   |--- feature_1 >  395567.08\n",
      "|   |   |   |   |--- feature_1 <= 425916.53\n",
      "|   |   |   |   |   |--- value: [191050.39]\n",
      "|   |   |   |   |--- feature_1 >  425916.53\n",
      "|   |   |   |   |   |--- feature_1 <= 457841.31\n",
      "|   |   |   |   |   |   |--- value: [191792.06]\n",
      "|   |   |   |   |   |--- feature_1 >  457841.31\n",
      "|   |   |   |   |   |   |--- value: [192261.83]\n",
      "\n"
     ]
    }
   ],
   "source": [
    "print(tree.export_text(regressor))"
   ]
  },
  {
   "cell_type": "markdown",
   "id": "coupled-sharing",
   "metadata": {},
   "source": [
    "### TO-DO 4\n",
    "Suponha que a empresa tenha um orçamento de R$ 500.000,00.\n",
    "\n",
    "Eles estão considerando três opções:\n",
    "\n",
    "> R&D: 300.000,00 ; Marketing: 200.000,00\n",
    "\n",
    "> R&D: 200.000,00 ; Marketing: 300.000,00\n",
    "\n",
    "> R&D: 100.000,00 ; Marketing: 400.000,00\n",
    "\n",
    "Qual opção irá, a partir do modelo treinado, retornar o maior lucro?"
   ]
  },
  {
   "cell_type": "code",
   "execution_count": 18,
   "id": "patent-divorce",
   "metadata": {
    "tags": []
   },
   "outputs": [
    {
     "name": "stdout",
     "output_type": "stream",
     "text": [
      "Orçamento: [300000, 200000] \n",
      "Lucro Predito: [166187.94]\n",
      "\n",
      "Orçamento: [200000, 300000] \n",
      "Lucro Predito: [166187.94]\n",
      "\n",
      "Orçamento: [100000, 400000] \n",
      "Lucro Predito: [125370.37]\n",
      "\n"
     ]
    }
   ],
   "source": [
    "# resposta\n",
    "orcamentos = [[300000, 200000], [200000,300000], [100000,400000]]\n",
    "\n",
    "for orcamento in orcamentos:\n",
    "    y_pred = regressor.predict([orcamento])\n",
    "    print(\"Orçamento:\", orcamento,\n",
    "          \"\\nLucro Predito:\", y_pred)\n",
    "    print()"
   ]
  },
  {
   "cell_type": "code",
   "execution_count": null,
   "id": "electric-pregnancy",
   "metadata": {},
   "outputs": [],
   "source": [
    "from sklearn import linear_model"
   ]
  },
  {
   "cell_type": "code",
   "execution_count": 19,
   "id": "generic-organic",
   "metadata": {
    "tags": []
   },
   "outputs": [
    {
     "data": {
      "text/plain": [
       "LinearRegression()"
      ]
     },
     "execution_count": 19,
     "metadata": {},
     "output_type": "execute_result"
    }
   ],
   "source": [
    "model = linear_model.LinearRegression()\n",
    "model.fit(X, y)"
   ]
  },
  {
   "cell_type": "code",
   "execution_count": 20,
   "id": "prostate-account",
   "metadata": {
    "tags": []
   },
   "outputs": [
    {
     "name": "stdout",
     "output_type": "stream",
     "text": [
      "Orçamento: [300000, 200000] \n",
      "Lucro Predito: [291932.65247867]\n",
      "\n",
      "Orçamento: [200000, 300000] \n",
      "Lucro Predito: [215265.03559365]\n",
      "\n",
      "Orçamento: [100000, 400000] \n",
      "Lucro Predito: [138597.41870863]\n",
      "\n"
     ]
    }
   ],
   "source": [
    "for orcamento in orcamentos:\n",
    "    y_pred = model.predict([orcamento])\n",
    "    print(\"Orçamento:\", orcamento,\n",
    "          \"\\nLucro Predito:\", y_pred)\n",
    "    print()"
   ]
  },
  {
   "cell_type": "code",
   "execution_count": null,
   "id": "patent-threat",
   "metadata": {},
   "outputs": [],
   "source": []
  }
 ],
 "metadata": {
  "kernelspec": {
   "display_name": "Python 3 (ipykernel)",
   "language": "python",
   "name": "python3"
  },
  "language_info": {
   "codemirror_mode": {
    "name": "ipython",
    "version": 3
   },
   "file_extension": ".py",
   "mimetype": "text/x-python",
   "name": "python",
   "nbconvert_exporter": "python",
   "pygments_lexer": "ipython3",
   "version": "3.9.12"
  }
 },
 "nbformat": 4,
 "nbformat_minor": 5
}
